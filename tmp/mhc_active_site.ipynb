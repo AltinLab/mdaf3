{
 "cells": [
  {
   "cell_type": "code",
   "execution_count": 22,
   "metadata": {},
   "outputs": [],
   "source": [
    "import polars as pl\n",
    "from pathlib import Path\n",
    "from tcr_format_parsers.common.TriadUtils import (\n",
    "    FORMAT_MHC_COLS,\n",
    "    FORMAT_TCR_COLS,\n",
    ")\n",
    "\n",
    "iedb_human_II_datpath = Path(\n",
    "    \"/tgen_labs/altin/alphafold3/runs/tcrtrifold-experiments/data/iedb-vdjdb/iedb/human_II/iedb_human_II.csv\"\n",
    ")\n",
    "iedb_human_II = pl.read_csv(iedb_human_II_datpath)\n",
    "iedb_human_II_infdir = Path(\n",
    "    \"/tgen_labs/altin/alphafold3/runs/tcrtrifold-experiments/data/iedb-vdjdb/iedb/human_II/inference\"\n",
    ")\n",
    "\n",
    "unique_mhc_drb = (\n",
    "    iedb_human_II.group_by(FORMAT_MHC_COLS)\n",
    "    .agg(\n",
    "        [pl.col(colname).first() for colname in FORMAT_TCR_COLS]\n",
    "        + [pl.col(\"job_name\").first()]\n",
    "    )\n",
    "    .filter(pl.col(\"mhc_2_name\").str.starts_with(\"DRB1\"))\n",
    ")\n",
    "\n",
    "pepseq_all_mhc = pl.read_csv(\n",
    "    \"/home/lwoods/workspace/mdaf3/tmp/all_proteins_PepSeq.csv\",\n",
    "    has_header=False,\n",
    "    new_columns=[\"mhc_name\", \"mhc_seq\"],\n",
    ").with_columns(\n",
    "    pl.when(pl.col(\"mhc_name\").str.starts_with(\"D\"))\n",
    "    .then(pl.lit(\"II\"))\n",
    "    .otherwise(pl.lit(\"I\"))\n",
    "    .alias(\"mhc_class\")\n",
    ")\n",
    "pepseq_infdir = Path()"
   ]
  },
  {
   "cell_type": "code",
   "execution_count": 18,
   "metadata": {},
   "outputs": [
    {
     "name": "stderr",
     "output_type": "stream",
     "text": [
      "Processing rows: 100%|██████████| 1/1 [00:00<00:00,  4.09it/s]"
     ]
    },
    {
     "name": "stdout",
     "output_type": "stream",
     "text": [
      "[[59, 60, 61, 62, 63, 64, 65, 66, 67, 68, 69, 70, 71, 72, 73, 74, 75, 76, 77, 78, 79, 80, 81, 82, 83, 84, 85, 86, 87, 88, 89]]\n",
      "[[256, 257, 258, 259, 260, 261, 262, 263, 264, 265, 266, 267, 268, 269, 270, 271, 272, 273, 274, 275, 276, 277, 278, 279, 280, 281, 282, 283, 284, 285, 286, 287, 288, 289, 290]]\n",
      "[[20, 21, 22, 23, 24, 25, 26, 27, 28, 29, 30, 31, 32, 33, 34, 35, 36, 37, 38, 39, 40, 41, 42, 43, 44, 45, 46, 47, 48, 49, 50, 51, 52, 53, 54, 55, 56], [np.int64(98), 99, 100, 101, 102, 103, 104, 105, 106, 107, 108, 109, 110, 111, 112, 113, 114, 115, 116, 117, 118, 119, 120, 121, 122, 123, 124, 125, 126, 127, 128, 129, 130, 131, 132, 133, 134, 135, 136, 137, 138, 139, 140, 141, 142, 143, 144, 145, 146, 147, 148, 149, 150, 151, 152, 153, 154, 155, 156, 157, 158, 159, 160, 161, 162, 163, 164, 165, 166, 167, 168, 169, 170, 171, 172, 173, 174, 175, 176, 177, 178, 179, 180, 181, 182, 183, 184, 185, 186, 187, 188, 189, 190, 191, 192]]\n",
      "[[213, 214, 215, 216, 217, 218, 219, 220, 221, 222, 223, 224, 225, 226, 227, 228, 229, 230, 231, 232, 233, 234, 235, 236, 237, 238, 239, 240, 241, 242, 243, 244, 245, 246, 247, 248, 249, 250, 251, 252, 253], [np.int64(299), 300, 301, 302, 303, 304, 305, 306, 307, 308, 309, 310, 311, 312, 313, 314, 315, 316, 317, 318, 319, 320, 321, 322, 323, 324, 325, 326, 327, 328, 329, 330, 331, 332, 333, 334, 335, 336, 337, 338, 339, 340, 341, 342, 343, 344, 345, 346, 347, 348, 349, 350, 351, 352, 353, 354, 355, 356, 357, 358, 359, 360, 361, 362, 363, 364, 365, 366, 367, 368, 369, 370, 371, 372, 373, 374, 375, 376, 377, 378, 379, 380, 381, 382, 383, 384, 385, 386, 387, 388, 389, 390, 391, 392, 393]]\n"
     ]
    },
    {
     "name": "stderr",
     "output_type": "stream",
     "text": [
      "\n"
     ]
    },
    {
     "data": {
      "text/html": [
       "<div><style>\n",
       ".dataframe > thead > tr,\n",
       ".dataframe > tbody > tr {\n",
       "  text-align: right;\n",
       "  white-space: pre-wrap;\n",
       "}\n",
       "</style>\n",
       "<small>shape: (1, 16)</small><table border=\"1\" class=\"dataframe\"><thead><tr><th>mhc_class</th><th>mhc_1_chain</th><th>mhc_1_species</th><th>mhc_1_name</th><th>mhc_1_seq</th><th>mhc_2_chain</th><th>mhc_2_species</th><th>mhc_2_name</th><th>mhc_2_seq</th><th>tcr_1_chain</th><th>tcr_1_species</th><th>tcr_1_seq</th><th>tcr_2_chain</th><th>tcr_2_species</th><th>tcr_2_seq</th><th>job_name</th></tr><tr><td>str</td><td>str</td><td>str</td><td>str</td><td>str</td><td>str</td><td>str</td><td>str</td><td>str</td><td>str</td><td>str</td><td>str</td><td>str</td><td>str</td><td>str</td><td>str</td></tr></thead><tbody><tr><td>&quot;II&quot;</td><td>&quot;alpha&quot;</td><td>&quot;human&quot;</td><td>&quot;DRA*01:02&quot;</td><td>&quot;KEEHVIIQAEFYLNPDQSGEFMFDFDGDEI…</td><td>&quot;beta&quot;</td><td>&quot;human&quot;</td><td>&quot;DRB1*07:01&quot;</td><td>&quot;GDTQPRFLWQGKYKCHFFNGTERVQFLERL…</td><td>&quot;alpha&quot;</td><td>&quot;human&quot;</td><td>&quot;GQQVMQIPQYQHVQEGEDFTTYCNSSTTLS…</td><td>&quot;beta&quot;</td><td>&quot;human&quot;</td><td>&quot;NAGVTQTPKFRILKIGQSMTLQCTQDMNHN…</td><td>&quot;46327371a8c4a2a0a5556ba17838de…</td></tr></tbody></table></div>"
      ],
      "text/plain": [
       "shape: (1, 16)\n",
       "┌───────────┬───────────┬───────────┬───────────┬───┬───────────┬───────────┬───────────┬──────────┐\n",
       "│ mhc_class ┆ mhc_1_cha ┆ mhc_1_spe ┆ mhc_1_nam ┆ … ┆ tcr_2_cha ┆ tcr_2_spe ┆ tcr_2_seq ┆ job_name │\n",
       "│ ---       ┆ in        ┆ cies      ┆ e         ┆   ┆ in        ┆ cies      ┆ ---       ┆ ---      │\n",
       "│ str       ┆ ---       ┆ ---       ┆ ---       ┆   ┆ ---       ┆ ---       ┆ str       ┆ str      │\n",
       "│           ┆ str       ┆ str       ┆ str       ┆   ┆ str       ┆ str       ┆           ┆          │\n",
       "╞═══════════╪═══════════╪═══════════╪═══════════╪═══╪═══════════╪═══════════╪═══════════╪══════════╡\n",
       "│ II        ┆ alpha     ┆ human     ┆ DRA*01:02 ┆ … ┆ beta      ┆ human     ┆ NAGVTQTPK ┆ 46327371 │\n",
       "│           ┆           ┆           ┆           ┆   ┆           ┆           ┆ FRILKIGQS ┆ a8c4a2a0 │\n",
       "│           ┆           ┆           ┆           ┆   ┆           ┆           ┆ MTLQCTQDM ┆ a5556ba1 │\n",
       "│           ┆           ┆           ┆           ┆   ┆           ┆           ┆ NHN…      ┆ 7838de…  │\n",
       "└───────────┴───────────┴───────────┴───────────┴───┴───────────┴───────────┴───────────┴──────────┘"
      ]
     },
     "execution_count": 18,
     "metadata": {},
     "output_type": "execute_result"
    }
   ],
   "source": [
    "from mdaf3.FeatureExtraction import (\n",
    "    raw_helix_indices,\n",
    "    anneal_helix_indices,\n",
    "    serial_apply,\n",
    ")\n",
    "from mdaf3.AF3OutputParser import AF3Output\n",
    "from MDAnalysis.analysis.dssp import DSSP\n",
    "\n",
    "\n",
    "def raw_bsheet_indices(sel):\n",
    "    # https://docs.mdanalysis.org/2.8.0/documentation_pages/analysis/dssp.html\n",
    "    bsheet_resindices_boolmask = DSSP(sel).run().results.dssp_ndarray[0, :, 2]\n",
    "    return sel.residues[bsheet_resindices_boolmask].resindices\n",
    "\n",
    "\n",
    "def extract_active_site(row, af3_parent_dir):\n",
    "    af3_output = AF3Output(af3_parent_dir / row[\"job_name\"])\n",
    "\n",
    "    u = af3_output.get_mda_universe()\n",
    "\n",
    "    # mhc alpha\n",
    "    mhc_alpha = u.select_atoms(f\"segid B\")\n",
    "    mhc_beta = u.select_atoms(f\"segid C\")\n",
    "\n",
    "    if row[\"mhc_class\"] == \"I\":\n",
    "        mhc_helices = anneal_helix_indices(raw_helix_indices(mhc_alpha))\n",
    "        print(mhc_alpha_helices)\n",
    "    mhc_beta_helices = anneal_helix_indices(raw_helix_indices(mhc_beta))\n",
    "    print(mhc_beta_helices)\n",
    "\n",
    "    # not helix specific, just using for convenience\n",
    "    mhc_alpha_bsheet = anneal_helix_indices(raw_bsheet_indices(mhc_alpha))\n",
    "    print(mhc_alpha_bsheet)\n",
    "    mhc_beta_bsheet = anneal_helix_indices(raw_bsheet_indices(mhc_beta))\n",
    "    print(mhc_beta_bsheet)\n",
    "\n",
    "    new_row = row.copy()\n",
    "\n",
    "    return pl.DataFrame(new_row)\n",
    "\n",
    "\n",
    "serial_apply(\n",
    "    unique_mhc_drb[0],\n",
    "    extract_active_site,\n",
    "    iedb_human_II_infdir,\n",
    ")"
   ]
  },
  {
   "cell_type": "code",
   "execution_count": 19,
   "metadata": {},
   "outputs": [
    {
     "ename": "NameError",
     "evalue": "name 'pepseq_all_mhc' is not defined",
     "output_type": "error",
     "traceback": [
      "\u001b[0;31m---------------------------------------------------------------------------\u001b[0m",
      "\u001b[0;31mNameError\u001b[0m                                 Traceback (most recent call last)",
      "Cell \u001b[0;32mIn[19], line 1\u001b[0m\n\u001b[0;32m----> 1\u001b[0m pepseq_all_mhc\n",
      "\u001b[0;31mNameError\u001b[0m: name 'pepseq_all_mhc' is not defined"
     ]
    }
   ],
   "source": [
    "pepseq_all_mhc"
   ]
  }
 ],
 "metadata": {
  "kernelspec": {
   "display_name": "af3-analyzer",
   "language": "python",
   "name": "python3"
  },
  "language_info": {
   "codemirror_mode": {
    "name": "ipython",
    "version": 3
   },
   "file_extension": ".py",
   "mimetype": "text/x-python",
   "name": "python",
   "nbconvert_exporter": "python",
   "pygments_lexer": "ipython3",
   "version": "3.13.2"
  }
 },
 "nbformat": 4,
 "nbformat_minor": 2
}
